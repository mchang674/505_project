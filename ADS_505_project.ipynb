{
 "cells": [
  {
   "cell_type": "code",
   "execution_count": 1,
   "metadata": {},
   "outputs": [],
   "source": [
    "import pandas as pd\n",
    "import matplotlib.pylab as plt\n",
    "import numpy as np\n",
    "\n",
    "from numpy import exp\n",
    "\n",
    "import statistics as stats\n",
    "\n",
    "from sklearn import preprocessing\n",
    "from sklearn.preprocessing import StandardScaler\n",
    "from sklearn.ensemble import RandomForestClassifier\n",
    "from sklearn.neighbors import KNeighborsClassifier\n",
    "from sklearn.metrics import pairwise\n",
    "from sklearn.cluster import KMeans\n",
    "from scipy.cluster.hierarchy import dendrogram, linkage, fcluster\n",
    "from sklearn.cluster import KMeans\n",
    "from sklearn.linear_model import LinearRegression, LogisticRegression, LogisticRegressionCV\n",
    "from sklearn.model_selection import train_test_split, cross_val_score, GridSearchCV\n",
    "from sklearn.metrics import f1_score, precision_score, recall_score, accuracy_score\n",
    "\n",
    "from imblearn.over_sampling import RandomOverSampler\n",
    "\n",
    "import dmba\n",
    "from dmba import regressionSummary, plotDecisionTree, classificationSummary, gainsChart, liftChart\n",
    "\n",
    "%matplotlib inline"
   ]
  },
  {
   "cell_type": "code",
   "execution_count": 2,
   "metadata": {},
   "outputs": [],
   "source": [
    "absent = pd.read_csv('/Users/mtc/ADS/ADS 505/Project/Absenteeism_at_work.csv', delimiter = \";\")"
   ]
  },
  {
   "cell_type": "code",
   "execution_count": 3,
   "metadata": {},
   "outputs": [
    {
     "data": {
      "text/html": [
       "<div>\n",
       "<style scoped>\n",
       "    .dataframe tbody tr th:only-of-type {\n",
       "        vertical-align: middle;\n",
       "    }\n",
       "\n",
       "    .dataframe tbody tr th {\n",
       "        vertical-align: top;\n",
       "    }\n",
       "\n",
       "    .dataframe thead th {\n",
       "        text-align: right;\n",
       "    }\n",
       "</style>\n",
       "<table border=\"1\" class=\"dataframe\">\n",
       "  <thead>\n",
       "    <tr style=\"text-align: right;\">\n",
       "      <th></th>\n",
       "      <th>ID</th>\n",
       "      <th>Reason for absence</th>\n",
       "      <th>Month of absence</th>\n",
       "      <th>Day of the week</th>\n",
       "      <th>Seasons</th>\n",
       "      <th>Transportation expense</th>\n",
       "      <th>Distance from Residence to Work</th>\n",
       "      <th>Service time</th>\n",
       "      <th>Age</th>\n",
       "      <th>Work load Average/day</th>\n",
       "      <th>...</th>\n",
       "      <th>Disciplinary failure</th>\n",
       "      <th>Education</th>\n",
       "      <th>Son</th>\n",
       "      <th>Social drinker</th>\n",
       "      <th>Social smoker</th>\n",
       "      <th>Pet</th>\n",
       "      <th>Weight</th>\n",
       "      <th>Height</th>\n",
       "      <th>Body mass index</th>\n",
       "      <th>Absenteeism time in hours</th>\n",
       "    </tr>\n",
       "  </thead>\n",
       "  <tbody>\n",
       "    <tr>\n",
       "      <th>0</th>\n",
       "      <td>11</td>\n",
       "      <td>26</td>\n",
       "      <td>7</td>\n",
       "      <td>3</td>\n",
       "      <td>1</td>\n",
       "      <td>289</td>\n",
       "      <td>36</td>\n",
       "      <td>13</td>\n",
       "      <td>33</td>\n",
       "      <td>239.554</td>\n",
       "      <td>...</td>\n",
       "      <td>0</td>\n",
       "      <td>1</td>\n",
       "      <td>2</td>\n",
       "      <td>1</td>\n",
       "      <td>0</td>\n",
       "      <td>1</td>\n",
       "      <td>90</td>\n",
       "      <td>172</td>\n",
       "      <td>30</td>\n",
       "      <td>4</td>\n",
       "    </tr>\n",
       "    <tr>\n",
       "      <th>1</th>\n",
       "      <td>36</td>\n",
       "      <td>0</td>\n",
       "      <td>7</td>\n",
       "      <td>3</td>\n",
       "      <td>1</td>\n",
       "      <td>118</td>\n",
       "      <td>13</td>\n",
       "      <td>18</td>\n",
       "      <td>50</td>\n",
       "      <td>239.554</td>\n",
       "      <td>...</td>\n",
       "      <td>1</td>\n",
       "      <td>1</td>\n",
       "      <td>1</td>\n",
       "      <td>1</td>\n",
       "      <td>0</td>\n",
       "      <td>0</td>\n",
       "      <td>98</td>\n",
       "      <td>178</td>\n",
       "      <td>31</td>\n",
       "      <td>0</td>\n",
       "    </tr>\n",
       "    <tr>\n",
       "      <th>2</th>\n",
       "      <td>3</td>\n",
       "      <td>23</td>\n",
       "      <td>7</td>\n",
       "      <td>4</td>\n",
       "      <td>1</td>\n",
       "      <td>179</td>\n",
       "      <td>51</td>\n",
       "      <td>18</td>\n",
       "      <td>38</td>\n",
       "      <td>239.554</td>\n",
       "      <td>...</td>\n",
       "      <td>0</td>\n",
       "      <td>1</td>\n",
       "      <td>0</td>\n",
       "      <td>1</td>\n",
       "      <td>0</td>\n",
       "      <td>0</td>\n",
       "      <td>89</td>\n",
       "      <td>170</td>\n",
       "      <td>31</td>\n",
       "      <td>2</td>\n",
       "    </tr>\n",
       "    <tr>\n",
       "      <th>3</th>\n",
       "      <td>7</td>\n",
       "      <td>7</td>\n",
       "      <td>7</td>\n",
       "      <td>5</td>\n",
       "      <td>1</td>\n",
       "      <td>279</td>\n",
       "      <td>5</td>\n",
       "      <td>14</td>\n",
       "      <td>39</td>\n",
       "      <td>239.554</td>\n",
       "      <td>...</td>\n",
       "      <td>0</td>\n",
       "      <td>1</td>\n",
       "      <td>2</td>\n",
       "      <td>1</td>\n",
       "      <td>1</td>\n",
       "      <td>0</td>\n",
       "      <td>68</td>\n",
       "      <td>168</td>\n",
       "      <td>24</td>\n",
       "      <td>4</td>\n",
       "    </tr>\n",
       "    <tr>\n",
       "      <th>4</th>\n",
       "      <td>11</td>\n",
       "      <td>23</td>\n",
       "      <td>7</td>\n",
       "      <td>5</td>\n",
       "      <td>1</td>\n",
       "      <td>289</td>\n",
       "      <td>36</td>\n",
       "      <td>13</td>\n",
       "      <td>33</td>\n",
       "      <td>239.554</td>\n",
       "      <td>...</td>\n",
       "      <td>0</td>\n",
       "      <td>1</td>\n",
       "      <td>2</td>\n",
       "      <td>1</td>\n",
       "      <td>0</td>\n",
       "      <td>1</td>\n",
       "      <td>90</td>\n",
       "      <td>172</td>\n",
       "      <td>30</td>\n",
       "      <td>2</td>\n",
       "    </tr>\n",
       "  </tbody>\n",
       "</table>\n",
       "<p>5 rows × 21 columns</p>\n",
       "</div>"
      ],
      "text/plain": [
       "   ID  Reason for absence  Month of absence  Day of the week  Seasons  \\\n",
       "0  11                  26                 7                3        1   \n",
       "1  36                   0                 7                3        1   \n",
       "2   3                  23                 7                4        1   \n",
       "3   7                   7                 7                5        1   \n",
       "4  11                  23                 7                5        1   \n",
       "\n",
       "   Transportation expense  Distance from Residence to Work  Service time  Age  \\\n",
       "0                     289                               36            13   33   \n",
       "1                     118                               13            18   50   \n",
       "2                     179                               51            18   38   \n",
       "3                     279                                5            14   39   \n",
       "4                     289                               36            13   33   \n",
       "\n",
       "   Work load Average/day   ...  Disciplinary failure  Education  Son  \\\n",
       "0                 239.554  ...                     0          1    2   \n",
       "1                 239.554  ...                     1          1    1   \n",
       "2                 239.554  ...                     0          1    0   \n",
       "3                 239.554  ...                     0          1    2   \n",
       "4                 239.554  ...                     0          1    2   \n",
       "\n",
       "   Social drinker  Social smoker  Pet  Weight  Height  Body mass index  \\\n",
       "0               1              0    1      90     172               30   \n",
       "1               1              0    0      98     178               31   \n",
       "2               1              0    0      89     170               31   \n",
       "3               1              1    0      68     168               24   \n",
       "4               1              0    1      90     172               30   \n",
       "\n",
       "   Absenteeism time in hours  \n",
       "0                          4  \n",
       "1                          0  \n",
       "2                          2  \n",
       "3                          4  \n",
       "4                          2  \n",
       "\n",
       "[5 rows x 21 columns]"
      ]
     },
     "execution_count": 3,
     "metadata": {},
     "output_type": "execute_result"
    }
   ],
   "source": [
    "absent.head()"
   ]
  },
  {
   "cell_type": "code",
   "execution_count": null,
   "metadata": {},
   "outputs": [],
   "source": []
  },
  {
   "cell_type": "code",
   "execution_count": 4,
   "metadata": {},
   "outputs": [
    {
     "name": "stdout",
     "output_type": "stream",
     "text": [
      "    count\n",
      "ID       \n",
      "1      23\n",
      "2       6\n",
      "3     113\n",
      "4       1\n",
      "5      19\n",
      "6       8\n",
      "7       6\n",
      "8       2\n",
      "9       8\n",
      "10     24\n",
      "11     40\n",
      "12      7\n",
      "13     15\n",
      "14     29\n",
      "15     37\n",
      "16      2\n",
      "17     20\n",
      "18     16\n",
      "19      3\n",
      "20     42\n",
      "21      3\n",
      "22     46\n",
      "23      8\n",
      "24     30\n",
      "25     10\n",
      "26      5\n",
      "27      7\n",
      "28     76\n",
      "29      5\n",
      "30      7\n",
      "31      3\n",
      "32      5\n",
      "33     24\n",
      "34     55\n",
      "35      1\n",
      "36     34\n"
     ]
    }
   ],
   "source": [
    "count = pd.DataFrame(absent['ID'].value_counts())\n",
    "\n",
    "count = count.sort_values('ID')\n",
    "\n",
    "print(count) #IDs 8, 4, and 35 have no hours of absence, but this will be taken care of later, since measures will be in hours/unit of time"
   ]
  },
  {
   "cell_type": "code",
   "execution_count": 5,
   "metadata": {},
   "outputs": [
    {
     "name": "stdout",
     "output_type": "stream",
     "text": [
      "                    count\n",
      "Reason for absence       \n",
      "17                      1\n",
      "3                       1\n",
      "2                       1\n",
      "4                       2\n",
      "15                      2\n",
      "24                      3\n",
      "16                      3\n",
      "5                       3\n",
      "9                       4\n",
      "8                       6\n",
      "21                      6\n",
      "12                      8\n",
      "6                       8\n",
      "7                      15\n",
      "1                      16\n",
      "14                     19\n",
      "18                     21\n",
      "10                     25\n",
      "11                     26\n",
      "25                     31\n",
      "26                     33\n",
      "22                     38\n",
      "19                     40\n",
      "0                      43\n",
      "13                     55\n",
      "27                     69\n",
      "28                    112\n",
      "23                    149\n"
     ]
    }
   ],
   "source": [
    "count_reason = pd.DataFrame(absent['Reason for absence'].value_counts())\n",
    "\n",
    "count_reason = count_reason.sort_values('count', ascending=True)\n",
    "\n",
    "print(count_reason)"
   ]
  },
  {
   "cell_type": "code",
   "execution_count": 6,
   "metadata": {},
   "outputs": [],
   "source": [
    "indv_info = pd.DataFrame(absent.groupby(['ID'])['Absenteeism time in hours'].sum())\n",
    "\n",
    "indv_info['abs_hr_per_month'] = indv_info['Absenteeism time in hours']/36\n",
    "\n",
    "indv_info['abs_hr_per_log'] = indv_info['Absenteeism time in hours']/count['count']"
   ]
  },
  {
   "cell_type": "code",
   "execution_count": 7,
   "metadata": {},
   "outputs": [
    {
     "name": "stdout",
     "output_type": "stream",
     "text": [
      "    Absenteeism time in hours  abs_hr_per_month  abs_hr_per_log\n",
      "ID                                                             \n",
      "9                         262          7.277778       32.750000\n",
      "26                         83          2.305556       16.600000\n",
      "14                        476         13.222222       16.413793\n",
      "13                        183          5.083333       12.200000\n",
      "11                        450         12.500000       11.250000\n",
      "36                        311          8.638889        9.147059\n",
      "6                          72          2.000000        9.000000\n",
      "24                        254          7.055556        8.466667\n",
      "16                         16          0.444444        8.000000\n",
      "10                        186          5.166667        7.750000\n",
      "18                        118          3.277778        7.375000\n",
      "20                        306          8.500000        7.285714\n",
      "15                        253          7.027778        6.837838\n",
      "17                        126          3.500000        6.300000\n",
      "34                        344          9.555556        6.254545\n",
      "22                        253          7.027778        5.500000\n",
      "5                         104          2.888889        5.473684\n",
      "31                         16          0.444444        5.333333\n",
      "21                         16          0.444444        5.333333\n",
      "1                         121          3.361111        5.260870\n",
      "23                         40          1.111111        5.000000\n",
      "7                          30          0.833333        5.000000\n",
      "12                         34          0.944444        4.857143\n",
      "28                        347          9.638889        4.565789\n",
      "30                         31          0.861111        4.428571\n",
      "3                         482         13.388889        4.265487\n",
      "25                         42          1.166667        4.200000\n",
      "29                         21          0.583333        4.200000\n",
      "2                          25          0.694444        4.166667\n",
      "27                         27          0.750000        3.857143\n",
      "32                         16          0.444444        3.200000\n",
      "33                         73          2.027778        3.041667\n",
      "19                          6          0.166667        2.000000\n",
      "8                           0          0.000000        0.000000\n",
      "4                           0          0.000000        0.000000\n",
      "35                          0          0.000000        0.000000\n"
     ]
    }
   ],
   "source": [
    "print(indv_info.sort_values('abs_hr_per_log', ascending=False))"
   ]
  },
  {
   "cell_type": "code",
   "execution_count": 8,
   "metadata": {},
   "outputs": [
    {
     "name": "stdout",
     "output_type": "stream",
     "text": [
      "    Absenteeism time in hours  abs_hr_per_month  abs_hr_per_log\n",
      "ID                                                             \n",
      "3                         482         13.388889        4.265487\n",
      "14                        476         13.222222       16.413793\n",
      "11                        450         12.500000       11.250000\n",
      "28                        347          9.638889        4.565789\n",
      "34                        344          9.555556        6.254545\n",
      "36                        311          8.638889        9.147059\n",
      "20                        306          8.500000        7.285714\n",
      "9                         262          7.277778       32.750000\n",
      "24                        254          7.055556        8.466667\n",
      "15                        253          7.027778        6.837838\n",
      "22                        253          7.027778        5.500000\n",
      "10                        186          5.166667        7.750000\n",
      "13                        183          5.083333       12.200000\n",
      "17                        126          3.500000        6.300000\n",
      "1                         121          3.361111        5.260870\n",
      "18                        118          3.277778        7.375000\n",
      "5                         104          2.888889        5.473684\n",
      "26                         83          2.305556       16.600000\n",
      "33                         73          2.027778        3.041667\n",
      "6                          72          2.000000        9.000000\n",
      "25                         42          1.166667        4.200000\n",
      "23                         40          1.111111        5.000000\n",
      "12                         34          0.944444        4.857143\n",
      "30                         31          0.861111        4.428571\n",
      "7                          30          0.833333        5.000000\n",
      "27                         27          0.750000        3.857143\n",
      "2                          25          0.694444        4.166667\n",
      "29                         21          0.583333        4.200000\n",
      "31                         16          0.444444        5.333333\n",
      "32                         16          0.444444        3.200000\n",
      "16                         16          0.444444        8.000000\n",
      "21                         16          0.444444        5.333333\n",
      "19                          6          0.166667        2.000000\n",
      "8                           0          0.000000        0.000000\n",
      "4                           0          0.000000        0.000000\n",
      "35                          0          0.000000        0.000000\n"
     ]
    }
   ],
   "source": [
    "print(indv_info.sort_values('abs_hr_per_month', ascending=False))"
   ]
  },
  {
   "cell_type": "code",
   "execution_count": 9,
   "metadata": {},
   "outputs": [
    {
     "name": "stdout",
     "output_type": "stream",
     "text": [
      "    Absenteeism time in hours  abs_hr_per_month  abs_hr_per_log\n",
      "ID                                                             \n",
      "3                         482         13.388889        4.265487\n",
      "14                        476         13.222222       16.413793\n",
      "11                        450         12.500000       11.250000\n",
      "28                        347          9.638889        4.565789\n",
      "34                        344          9.555556        6.254545\n",
      "36                        311          8.638889        9.147059\n",
      "20                        306          8.500000        7.285714\n",
      "9                         262          7.277778       32.750000\n",
      "24                        254          7.055556        8.466667\n",
      "15                        253          7.027778        6.837838\n",
      "22                        253          7.027778        5.500000\n",
      "10                        186          5.166667        7.750000\n",
      "13                        183          5.083333       12.200000\n",
      "17                        126          3.500000        6.300000\n",
      "1                         121          3.361111        5.260870\n",
      "18                        118          3.277778        7.375000\n",
      "5                         104          2.888889        5.473684\n",
      "26                         83          2.305556       16.600000\n",
      "33                         73          2.027778        3.041667\n",
      "6                          72          2.000000        9.000000\n",
      "25                         42          1.166667        4.200000\n",
      "23                         40          1.111111        5.000000\n",
      "12                         34          0.944444        4.857143\n",
      "30                         31          0.861111        4.428571\n",
      "7                          30          0.833333        5.000000\n",
      "27                         27          0.750000        3.857143\n",
      "2                          25          0.694444        4.166667\n",
      "29                         21          0.583333        4.200000\n",
      "31                         16          0.444444        5.333333\n",
      "32                         16          0.444444        3.200000\n",
      "16                         16          0.444444        8.000000\n",
      "21                         16          0.444444        5.333333\n",
      "19                          6          0.166667        2.000000\n",
      "8                           0          0.000000        0.000000\n",
      "4                           0          0.000000        0.000000\n",
      "35                          0          0.000000        0.000000\n"
     ]
    }
   ],
   "source": [
    "print(indv_info.sort_values('Absenteeism time in hours', ascending=False))"
   ]
  },
  {
   "cell_type": "code",
   "execution_count": 25,
   "metadata": {},
   "outputs": [
    {
     "name": "stdout",
     "output_type": "stream",
     "text": [
      "                    count\n",
      "Reason for absence       \n",
      "6                       2\n",
      "18                      2\n",
      "25                      2\n",
      "1                       1\n",
      "12                      1\n"
     ]
    }
   ],
   "source": [
    "print(pd.DataFrame(absent[(absent['ID'] == 9)].value_counts('Reason for absence')))"
   ]
  },
  {
   "cell_type": "code",
   "execution_count": 26,
   "metadata": {},
   "outputs": [
    {
     "name": "stdout",
     "output_type": "stream",
     "text": [
      "                    count\n",
      "Reason for absence       \n",
      "27                     38\n",
      "28                     26\n",
      "23                     19\n",
      "13                     10\n",
      "11                      7\n",
      "10                      2\n",
      "18                      2\n",
      "21                      2\n",
      "25                      2\n",
      "0                       1\n",
      "5                       1\n",
      "6                       1\n",
      "12                      1\n",
      "26                      1\n"
     ]
    }
   ],
   "source": [
    "print(pd.DataFrame(absent[(absent['ID'] == 3)].value_counts('Reason for absence')))"
   ]
  },
  {
   "cell_type": "code",
   "execution_count": 11,
   "metadata": {},
   "outputs": [
    {
     "name": "stdout",
     "output_type": "stream",
     "text": [
      "    Absenteeism time in hours  abs_hr_per_month  abs_hr_per_log\n",
      "ID                                                             \n",
      "4                           0          0.000000        0.000000\n",
      "8                           0          0.000000        0.000000\n",
      "16                         16          0.444444        8.000000\n",
      "19                          6          0.166667        2.000000\n",
      "21                         16          0.444444        5.333333\n",
      "31                         16          0.444444        5.333333\n",
      "32                         16          0.444444        3.200000\n",
      "35                          0          0.000000        0.000000\n"
     ]
    }
   ],
   "source": [
    "print(pd.DataFrame(indv_info[(indv_info['Absenteeism time in hours'] < 20)]))"
   ]
  },
  {
   "cell_type": "markdown",
   "metadata": {},
   "source": [
    "## Data Processing"
   ]
  },
  {
   "cell_type": "code",
   "execution_count": null,
   "metadata": {},
   "outputs": [],
   "source": [
    "absent.columns = ['worker_id', 'absence_reason', 'absence_month', 'absence_day', 'season', 'trans_exp', 'distance_to_work', 'serve_time', 'Age', 'avg_work_per_day', 'target_hit', 'disc_fail', 'educ', 'children', 'soc_drink', 'soc_smoke', 'pets', 'weight', 'height', 'BMI', 'absence_hours']\n",
    "\n",
    "absent.dtypes"
   ]
  },
  {
   "cell_type": "code",
   "execution_count": null,
   "metadata": {},
   "outputs": [],
   "source": [
    "print(stats.median(absent['absence_hours']))\n",
    "print(stats.stdev(absent['absence_hours']))\n",
    "print(stats.median(absent['absence_hours']) + 2*stats.stdev(absent['absence_hours']))"
   ]
  },
  {
   "cell_type": "code",
   "execution_count": null,
   "metadata": {},
   "outputs": [],
   "source": [
    "cutoff = stats.median(absent['absence_hours']) + 2*stats.stdev(absent['absence_hours'])\n",
    "absent['above_normal'] = absent['absence_hours'] > cutoff"
   ]
  },
  {
   "cell_type": "code",
   "execution_count": null,
   "metadata": {},
   "outputs": [],
   "source": [
    "absent['absence_month'] = absent['absence_month'].replace([1, 2, 3, 4, 5, 6, 7, 8, 9, 10, 11, 12], ['Jan', 'Feb', 'Mar', 'Apr', 'May', 'Jun', 'Jul', 'Aug', 'Sep', 'Oct', 'Nov', 'Dec'])\n",
    "absent['absence_day'] = absent['absence_day'].replace([1, 2, 3, 4, 5, 6, 7], ['Sun', 'Mon', 'Tue', 'Wed', 'Thu', 'Fri', 'Sat'])\n",
    "absent['season'] = absent['season'].replace([1, 2, 3, 4], ['summer', 'autumn', 'winter', 'spring'])\n",
    "absent['disc_fail'] = absent['disc_fail'].replace([0,1], ['no', 'yes'])\n",
    "absent['soc_drink'] = absent['soc_drink'].replace([0,1], ['no', 'yes'])\n",
    "absent['soc_smoke'] = absent['soc_smoke'].replace([0,1], ['no', 'yes'])\n",
    "\n",
    "absent['absence_reason'] = absent['absence_reason'].astype('object')"
   ]
  },
  {
   "cell_type": "code",
   "execution_count": null,
   "metadata": {},
   "outputs": [],
   "source": [
    "X= absent.drop(columns = ['absence_hours', 'worker_id', 'absence_hours', 'above_normal', 'BMI'], axis = 1)\n",
    "y = absent['above_normal']"
   ]
  },
  {
   "cell_type": "code",
   "execution_count": null,
   "metadata": {},
   "outputs": [],
   "source": [
    "dum_col = ['absence_reason', 'absence_month', 'absence_day', 'season', 'disc_fail', 'soc_drink', 'soc_smoke']\n",
    "X_dum = pd.get_dummies(X[dum_col], drop_first=True)\n",
    "X_dum.head()"
   ]
  },
  {
   "cell_type": "code",
   "execution_count": null,
   "metadata": {},
   "outputs": [],
   "source": [
    "scaler = preprocessing.StandardScaler()\n",
    "X_norm = X.drop(columns = dum_col)\n",
    "X_norm = pd.DataFrame(scaler.fit_transform(X_norm*1.0), columns=X_norm.columns)"
   ]
  },
  {
   "cell_type": "code",
   "execution_count": null,
   "metadata": {},
   "outputs": [],
   "source": [
    "X_new = pd.concat([X_dum, X_norm], axis = 1)\n",
    "\n",
    "ros = RandomOverSampler(random_state=1)\n",
    "X_res, y_res = ros.fit_resample(X_new, y)"
   ]
  },
  {
   "cell_type": "code",
   "execution_count": null,
   "metadata": {},
   "outputs": [],
   "source": [
    "X_train, X_test, y_train, y_test = train_test_split(X_res, y_res, test_size=0.4, random_state=12345)"
   ]
  },
  {
   "cell_type": "code",
   "execution_count": null,
   "metadata": {},
   "outputs": [],
   "source": [
    "predictors = X_train.columns\n",
    "X_train"
   ]
  },
  {
   "cell_type": "markdown",
   "metadata": {},
   "source": [
    "## Random Forest (with hyperparameter tuning)"
   ]
  },
  {
   "cell_type": "code",
   "execution_count": null,
   "metadata": {},
   "outputs": [],
   "source": [
    "grid_space = {'max_depth': [5, 10, 15],\n",
    "              'n_estimators': [5, 10, 15, 20, 25, 30]}\n",
    "\n",
    "rf = RandomForestClassifier(random_state=12345)\n",
    "\n",
    "grid = GridSearchCV(rf, param_grid = grid_space, cv = 5, scoring = 'accuracy')\n",
    "rf_fit = grid.fit(X_train, y_train)\n",
    "\n",
    "print('Best hyperparameters are: '+str(rf_fit.best_params_))\n",
    "print('Best score is: '+str(rf_fit.best_score_))\n",
    "\n",
    "\n",
    "rf_hp = RandomForestClassifier(max_depth=15, n_estimators=10, random_state=12345)\n",
    "rf_fit = rf_hp.fit(X_train, y_train)\n",
    "\n",
    "rf_pred = rf_fit.predict(X_test)\n",
    "\n",
    "print(f'accuracy: {accuracy_score(y_test, rf_pred)}')\n",
    "print(f'precision: {precision_score(y_test, rf_pred, zero_division=0)}')\n",
    "print(f'recall: {recall_score(y_test, rf_pred, zero_division=1)}')\n",
    "print('\\n')\n",
    "\n",
    "print(classificationSummary(y_test, rf_pred))\n",
    "\n",
    "importances = rf_fit.feature_importances_\n",
    "feature_imp_df = pd.DataFrame({'Feature': predictors, 'Gini Importance': importances}).sort_values('Gini Importance', ascending=False) \n",
    "display(feature_imp_df)\n"
   ]
  },
  {
   "cell_type": "markdown",
   "metadata": {},
   "source": [
    "## K-Means Clustering"
   ]
  },
  {
   "cell_type": "code",
   "execution_count": null,
   "metadata": {},
   "outputs": [],
   "source": [
    "inertias = []\n",
    "\n",
    "for i in range(1,16):\n",
    "    kmeans = KMeans(n_clusters=i, random_state=12345)\n",
    "    kmeans.fit(X_new[['avg_work_per_day', 'distance_to_work', 'trans_exp', 'height', 'children', 'Age', 'serve_time', 'weight', 'pets']])\n",
    "    inertias.append(kmeans.inertia_)\n",
    "\n",
    "plt.plot(range(1,16), inertias, marker='o')\n",
    "plt.title('Elbow method')\n",
    "plt.xlabel('Number of clusters')\n",
    "plt.ylabel('Inertia')\n",
    "plt.show()\n",
    "\n",
    "kmeans = KMeans(n_clusters=4)\n",
    "kmeans_absent = kmeans.fit(X_new[['avg_work_per_day', 'distance_to_work', 'trans_exp', 'height', 'children', 'Age', 'serve_time', 'weight', 'pets']])\n",
    "\n",
    "pd.DataFrame(kmeans_absent.cluster_centers_, columns = ['avg_work_per_day', 'distance_to_work', 'trans_exp', 'height', 'children', 'Age', 'serve_time', 'weight', 'pets'])"
   ]
  }
 ],
 "metadata": {
  "kernelspec": {
   "display_name": "base",
   "language": "python",
   "name": "python3"
  },
  "language_info": {
   "codemirror_mode": {
    "name": "ipython",
    "version": 3
   },
   "file_extension": ".py",
   "mimetype": "text/x-python",
   "name": "python",
   "nbconvert_exporter": "python",
   "pygments_lexer": "ipython3",
   "version": "3.11.7"
  }
 },
 "nbformat": 4,
 "nbformat_minor": 2
}
